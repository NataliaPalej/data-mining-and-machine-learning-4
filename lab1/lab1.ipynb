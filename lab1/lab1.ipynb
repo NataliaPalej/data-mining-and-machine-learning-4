{
 "cells": [
  {
   "cell_type": "code",
   "execution_count": 1,
   "id": "37225b44-af71-4335-9206-c61fd4564dc9",
   "metadata": {},
   "outputs": [
    {
     "data": {
      "text/plain": [
       "2"
      ]
     },
     "execution_count": 1,
     "metadata": {},
     "output_type": "execute_result"
    }
   ],
   "source": [
    "1+1"
   ]
  },
  {
   "cell_type": "code",
   "execution_count": 4,
   "id": "c2adceea-86ce-4144-b894-73b2f9d84a86",
   "metadata": {},
   "outputs": [
    {
     "data": {
      "text/plain": [
       "20"
      ]
     },
     "execution_count": 4,
     "metadata": {},
     "output_type": "execute_result"
    }
   ],
   "source": [
    "2*3\n",
    "4*5"
   ]
  },
  {
   "cell_type": "code",
   "execution_count": null,
   "id": "dee3b4ed-d9fa-4494-99c1-3ccdee7349f5",
   "metadata": {},
   "outputs": [],
   "source": [
    "print(\"1+1 =\", 1+1)"
   ]
  },
  {
   "cell_type": "code",
   "execution_count": 9,
   "id": "0e3b4f27-b838-4ab1-af28-3b8ef9f96dbb",
   "metadata": {},
   "outputs": [
    {
     "name": "stdout",
     "output_type": "stream",
     "text": [
      "2*2 = 4\n",
      "3:3 = 1.0\n"
     ]
    }
   ],
   "source": [
    "print(\"2*2 =\", 2*2)\n",
    "\n",
    "print(\"3:3 =\", 3/3)"
   ]
  },
  {
   "cell_type": "code",
   "execution_count": null,
   "id": "1d56a93c-6631-474c-aebc-f34fd16f335a",
   "metadata": {},
   "outputs": [],
   "source": []
  }
 ],
 "metadata": {
  "kernelspec": {
   "display_name": "Python 3 (ipykernel)",
   "language": "python",
   "name": "python3"
  },
  "language_info": {
   "codemirror_mode": {
    "name": "ipython",
    "version": 3
   },
   "file_extension": ".py",
   "mimetype": "text/x-python",
   "name": "python",
   "nbconvert_exporter": "python",
   "pygments_lexer": "ipython3",
   "version": "3.8.19"
  }
 },
 "nbformat": 4,
 "nbformat_minor": 5
}
