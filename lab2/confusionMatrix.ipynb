{
 "cells": [
  {
   "cell_type": "code",
   "execution_count": 8,
   "id": "8abcb88c-39d7-45d6-8bd3-0b1ac5724db2",
   "metadata": {},
   "outputs": [],
   "source": [
    "import pandas as pd\n",
    "import numpy as np\n",
    "from sklearn.metrics import confusion_matrix"
   ]
  },
  {
   "cell_type": "code",
   "execution_count": 13,
   "id": "f3b41555-0762-4c0e-9b27-b50adaf7261c",
   "metadata": {},
   "outputs": [],
   "source": [
    "actual = [0, 1, 0, 1] \n",
    "predicted = [1, 1, 1, 0]"
   ]
  },
  {
   "cell_type": "code",
   "execution_count": 48,
   "id": "b6483ddb-9860-4b56-8a6a-c25e386b71e4",
   "metadata": {},
   "outputs": [
    {
     "name": "stdout",
     "output_type": "stream",
     "text": [
      "actual type: <class 'list'>\n",
      "predicted type: <class 'list'>\n",
      "actual:  [0, 1, 0, 1] \n",
      "predicted:  [1, 1, 1, 0]\n"
     ]
    }
   ],
   "source": [
    "print(\"actual type:\", type(actual))\n",
    "print(\"predicted type:\", type(predicted))\n",
    "print(\"actual: \", actual, \"\\npredicted: \", predicted)"
   ]
  },
  {
   "cell_type": "code",
   "execution_count": 11,
   "id": "be1adb9f-b9ed-4317-9038-3ff37f466d3b",
   "metadata": {},
   "outputs": [
    {
     "name": "stdout",
     "output_type": "stream",
     "text": [
      "cm type: <class 'numpy.ndarray'>\n",
      "\n",
      "Confusion Matrix:\n",
      " [[0 2]\n",
      " [1 1]]\n"
     ]
    }
   ],
   "source": [
    "cm = confusion_matrix(actual, predicted)\n",
    "print(\"cm type:\", type(cm))\n",
    "print(\"\\nConfusion Matrix:\\n\", cm)"
   ]
  },
  {
   "cell_type": "code",
   "execution_count": 29,
   "id": "e3e2965b-4dcb-48f3-88bc-b90778aa11b7",
   "metadata": {},
   "outputs": [
    {
     "name": "stdout",
     "output_type": "stream",
     "text": [
      "r type: <class 'numpy.ndarray'>\n",
      "TN 0 FP 2 FN 1 TP 1\n"
     ]
    }
   ],
   "source": [
    "# ravel returns a flattened array in a row major style \n",
    "r = cm.ravel()\n",
    "print(\"r type:\", type(r))\n",
    "tn, fp, fn, tp = cm.ravel()\n",
    "print(\"TN\", tn, \"FP\", fp, \"FN\", fn, \"TP\", tp)"
   ]
  },
  {
   "cell_type": "code",
   "execution_count": null,
   "id": "cb7713c1-1e5e-4ead-8964-0f15ea6c22c0",
   "metadata": {},
   "outputs": [],
   "source": []
  },
  {
   "cell_type": "code",
   "execution_count": null,
   "id": "1747e70a-e6ea-40e9-b625-27674b73a8a9",
   "metadata": {},
   "outputs": [],
   "source": []
  },
  {
   "cell_type": "code",
   "execution_count": 49,
   "id": "014999d4-b16c-4969-b250-3ce3ff71d7d0",
   "metadata": {},
   "outputs": [
    {
     "name": "stdout",
     "output_type": "stream",
     "text": [
      "actual2:  ['B', 'M', 'B', 'M'] \n",
      "predicted2:  ['M', 'M', 'M', 'B']\n"
     ]
    }
   ],
   "source": [
    "actual2 = ['B', 'M', 'B', 'M'] \n",
    "predicted2 = ['M', 'M', 'M', 'B']\n",
    "print(\"actual2: \", actual2, \"\\npredicted2: \", predicted2)"
   ]
  },
  {
   "cell_type": "code",
   "execution_count": 18,
   "id": "d76cde17-d295-46af-b773-3560a3af9f4f",
   "metadata": {},
   "outputs": [
    {
     "name": "stdout",
     "output_type": "stream",
     "text": [
      "\n",
      "Confusion Matrix2:\n",
      " [[0 2]\n",
      " [1 1]]\n",
      "\n",
      "TN 0 FP 2 FN 1 TP 1\n"
     ]
    }
   ],
   "source": [
    "cm2 = confusion_matrix(actual2, predicted2)\n",
    "print(\"\\nConfusion Matrix2:\\n\", cm2)\n",
    "print()\n",
    "r2 = cm2.ravel()\n",
    "tn, fp, fn, tp = cm2.ravel()\n",
    "print(\"TN\", tn, \"FP\", fp, \"FN\", fn, \"TP\", tp)"
   ]
  },
  {
   "cell_type": "code",
   "execution_count": null,
   "id": "ef3bf75f-9930-4dc1-a76c-b69d02debe45",
   "metadata": {},
   "outputs": [],
   "source": []
  },
  {
   "cell_type": "code",
   "execution_count": null,
   "id": "c3de8283-9356-466d-9a65-ad06b6eb8c8f",
   "metadata": {},
   "outputs": [],
   "source": []
  },
  {
   "cell_type": "code",
   "execution_count": 40,
   "id": "ff1080f5-0697-406b-9287-ac705ba4d5fd",
   "metadata": {},
   "outputs": [
    {
     "name": "stdout",
     "output_type": "stream",
     "text": [
      "actual3:  ['W', 'M', 'W', 'M'] \n",
      "predicted3:  ['M', 'M', 'M', 'W']\n"
     ]
    }
   ],
   "source": [
    "actual3 = ['W', 'M', 'W', 'M'] \n",
    "predicted3 = ['M', 'M', 'M', 'W']\n",
    "print(\"actual3: \", actual3, \"\\npredicted3: \", predicted3)"
   ]
  },
  {
   "cell_type": "code",
   "execution_count": 41,
   "id": "71b3e3ed-12ae-44d4-a29c-845233a806cc",
   "metadata": {},
   "outputs": [
    {
     "name": "stdout",
     "output_type": "stream",
     "text": [
      "\n",
      "Confusion Matrix3:\n",
      " [[0 2]\n",
      " [1 1]]\n",
      "\n",
      "TN 0 FP 2 FN 1 TP 1\n"
     ]
    }
   ],
   "source": [
    "cm3 = confusion_matrix(actual3, predicted3, labels=[\"W\", \"M\"])\n",
    "print(\"\\nConfusion Matrix3:\\n\", cm3)\n",
    "print()\n",
    "r3 = cm3.ravel()\n",
    "tn, fp, fn, tp = cm3.ravel()\n",
    "print(\"TN\", tn, \"FP\", fp, \"FN\", fn, \"TP\", tp)"
   ]
  },
  {
   "cell_type": "code",
   "execution_count": null,
   "id": "913ad503-0122-49c9-b3a7-cf1629ee18cc",
   "metadata": {},
   "outputs": [],
   "source": []
  },
  {
   "cell_type": "code",
   "execution_count": null,
   "id": "91352c53-d977-4559-a926-d9fa9a8011b5",
   "metadata": {},
   "outputs": [],
   "source": []
  },
  {
   "cell_type": "code",
   "execution_count": 26,
   "id": "36088912-0e80-42de-b998-33efe46a096a",
   "metadata": {},
   "outputs": [
    {
     "name": "stdout",
     "output_type": "stream",
     "text": [
      "actual4:  ['cat', 'ant', 'cat', 'cat', 'ant', 'bird'] \n",
      "predicted4:  ['ant', 'ant', 'cat', 'cat', 'ant', 'cat']\n"
     ]
    }
   ],
   "source": [
    "actual4 = [\"cat\", \"ant\", \"cat\", \"cat\", \"ant\", \"bird\"] \n",
    "predicted4 = [\"ant\", \"ant\", \"cat\", \"cat\", \"ant\", \"cat\"]\n",
    "print(\"actual4: \", actual4, \"\\npredicted4: \", predicted4)"
   ]
  },
  {
   "cell_type": "code",
   "execution_count": 46,
   "id": "98c0ac33-3299-4cb3-b79b-a997bb318cdc",
   "metadata": {},
   "outputs": [
    {
     "name": "stdout",
     "output_type": "stream",
     "text": [
      "\n",
      "Confusion Matrix4:\n",
      " [[2 0 0]\n",
      " [0 0 1]\n",
      " [1 0 2]]\n",
      "\n"
     ]
    }
   ],
   "source": [
    "cm4 = confusion_matrix(actual4, predicted4, labels=[\"ant\", \"bird\", \"cat\"])\n",
    "print(\"\\nConfusion Matrix4:\\n\", cm4)\n",
    "print()"
   ]
  },
  {
   "cell_type": "code",
   "execution_count": null,
   "id": "5f874d19-4df9-4eb8-87f9-7e568f683ab2",
   "metadata": {},
   "outputs": [],
   "source": []
  },
  {
   "cell_type": "code",
   "execution_count": null,
   "id": "1fa61163-1ede-4415-9a9c-166b7276da91",
   "metadata": {},
   "outputs": [],
   "source": []
  },
  {
   "cell_type": "code",
   "execution_count": 42,
   "id": "3dd02798-44d1-4508-a161-b6d720163bab",
   "metadata": {},
   "outputs": [
    {
     "name": "stdout",
     "output_type": "stream",
     "text": [
      "\n",
      "actual5:  ['attack', 'normal', 'normal', 'attack', 'normal', 'normal', 'attack', 'normal', 'attack'] \n",
      "predicted4:  ['attack', 'normal', 'attack', 'attack', 'normal', 'normal', 'normal', 'normal', 'normal']\n"
     ]
    }
   ],
   "source": [
    "print()\n",
    "actual5 = [ 'attack', 'normal', 'normal', 'attack', 'normal', 'normal', 'attack', 'normal', 'attack']\n",
    "predicted5 = ['attack' , 'normal', 'attack', 'attack', 'normal', 'normal', 'normal', 'normal', 'normal']\n",
    "print(\"actual5: \", actual5, \"\\npredicted4: \", predicted5)"
   ]
  },
  {
   "cell_type": "code",
   "execution_count": 43,
   "id": "3aaa0c97-f165-455e-9d89-f1457adb5ce5",
   "metadata": {},
   "outputs": [
    {
     "name": "stdout",
     "output_type": "stream",
     "text": [
      "\n",
      "Confusion Matrix5:\n",
      " [[2 2]\n",
      " [1 4]]\n",
      "\n"
     ]
    }
   ],
   "source": [
    "cm5 = confusion_matrix(actual5, predicted5, labels=[\"attack\", \"normal\"])\n",
    "print(\"\\nConfusion Matrix5:\\n\", cm5)\n",
    "print()"
   ]
  },
  {
   "cell_type": "code",
   "execution_count": 44,
   "id": "e4bcd64c-8172-4587-acf8-6123cd32be0a",
   "metadata": {},
   "outputs": [
    {
     "name": "stdout",
     "output_type": "stream",
     "text": [
      "TN 2 FP 2 FN 1 TP 4\n"
     ]
    }
   ],
   "source": [
    "r5 = cm5.ravel()\n",
    "tn, fp, fn, tp = cm5.ravel()\n",
    "print(\"TN\", tn, \"FP\", fp, \"FN\", fn, \"TP\", tp)"
   ]
  },
  {
   "cell_type": "code",
   "execution_count": null,
   "id": "08488bab-e887-48b2-95e4-4cbf8b1e3e9c",
   "metadata": {},
   "outputs": [],
   "source": []
  }
 ],
 "metadata": {
  "kernelspec": {
   "display_name": "Python 3 (ipykernel)",
   "language": "python",
   "name": "python3"
  },
  "language_info": {
   "codemirror_mode": {
    "name": "ipython",
    "version": 3
   },
   "file_extension": ".py",
   "mimetype": "text/x-python",
   "name": "python",
   "nbconvert_exporter": "python",
   "pygments_lexer": "ipython3",
   "version": "3.8.19"
  }
 },
 "nbformat": 4,
 "nbformat_minor": 5
}
