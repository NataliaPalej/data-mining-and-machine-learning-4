{
 "cells": [
  {
   "cell_type": "code",
   "execution_count": 1,
   "id": "37225b44-af71-4335-9206-c61fd4564dc9",
   "metadata": {},
   "outputs": [
    {
     "data": {
      "text/plain": [
       "2"
      ]
     },
     "execution_count": 1,
     "metadata": {},
     "output_type": "execute_result"
    }
   ],
   "source": [
    "1+1"
   ]
  },
  {
   "cell_type": "code",
   "execution_count": 4,
   "id": "c2adceea-86ce-4144-b894-73b2f9d84a86",
   "metadata": {},
   "outputs": [
    {
     "data": {
      "text/plain": [
       "20"
      ]
     },
     "execution_count": 4,
     "metadata": {},
     "output_type": "execute_result"
    }
   ],
   "source": [
    "2*3\n",
    "4*5"
   ]
  },
  {
   "cell_type": "code",
   "execution_count": 10,
   "id": "dee3b4ed-d9fa-4494-99c1-3ccdee7349f5",
   "metadata": {},
   "outputs": [
    {
     "name": "stdout",
     "output_type": "stream",
     "text": [
      "1+1 = 2\n"
     ]
    }
   ],
   "source": [
    "print(\"1+1 =\", 1+1)"
   ]
  },
  {
   "cell_type": "code",
   "execution_count": 11,
   "id": "d0b86ae5-8fc6-4f72-8cc3-1d433936536e",
   "metadata": {},
   "outputs": [
    {
     "name": "stdout",
     "output_type": "stream",
     "text": [
      "2*2 = 4\n"
     ]
    }
   ],
   "source": [
    "print(\"2*2 =\", 2*2)"
   ]
  },
  {
   "cell_type": "code",
   "execution_count": 12,
   "id": "99ac921b-0b01-4886-aed7-a48d2c8847bf",
   "metadata": {},
   "outputs": [
    {
     "name": "stdout",
     "output_type": "stream",
     "text": [
      "3:3 = 1.0\n"
     ]
    }
   ],
   "source": [
    "print(\"3:3 =\", 3/3)"
   ]
  },
  {
   "cell_type": "code",
   "execution_count": null,
   "id": "1e28f85a-6444-4a0b-a45d-27da9efafc33",
   "metadata": {},
   "outputs": [],
   "source": []
  },
  {
   "cell_type": "code",
   "execution_count": 3,
   "id": "456412d1-3874-407d-8c17-35aa4bf25e42",
   "metadata": {},
   "outputs": [],
   "source": [
    "import pandas as pd\n",
    "import numpy as np"
   ]
  },
  {
   "cell_type": "code",
   "execution_count": 5,
   "id": "f0e9a6f9-ff28-4615-b665-65789cdff6e0",
   "metadata": {},
   "outputs": [],
   "source": [
    "from sklearn.metrics import confusion_matrix"
   ]
  },
  {
   "cell_type": "code",
   "execution_count": 6,
   "id": "7cffd851-88fd-43a1-b612-0e8c33042315",
   "metadata": {},
   "outputs": [
    {
     "data": {
      "text/plain": [
       "numpy.ndarray"
      ]
     },
     "execution_count": 6,
     "metadata": {},
     "output_type": "execute_result"
    }
   ],
   "source": [
    "np.ndarray"
   ]
  },
  {
   "cell_type": "code",
   "execution_count": 7,
   "id": "630e354c-4d3a-43c0-beaa-5e13a4f00b0e",
   "metadata": {},
   "outputs": [
    {
     "data": {
      "text/plain": [
       "<function numpy.array>"
      ]
     },
     "execution_count": 7,
     "metadata": {},
     "output_type": "execute_result"
    }
   ],
   "source": [
    "np.array"
   ]
  },
  {
   "cell_type": "code",
   "execution_count": 49,
   "id": "30a77008-435a-41d0-9a3b-decf19f1020b",
   "metadata": {},
   "outputs": [
    {
     "name": "stdout",
     "output_type": "stream",
     "text": [
      "# lists have commas between attibutes\n",
      "[12, 3, 6, 14]\n",
      "type:  <class 'list'>\n"
     ]
    }
   ],
   "source": [
    "x = [12, 3, 6, 14]\n",
    "print(\"# lists have commas between attibutes\")\n",
    "print(x)\n",
    "print(\"type: \", type(x))"
   ]
  },
  {
   "cell_type": "code",
   "execution_count": 53,
   "id": "fafce535-d98a-4b7e-aaa1-3df8c498cfa3",
   "metadata": {},
   "outputs": [
    {
     "name": "stdout",
     "output_type": "stream",
     "text": [
      "x[0]:  12\n",
      "\n",
      "# negative index picks the item from the end of the array\n",
      "x[-1]: 14\n"
     ]
    }
   ],
   "source": [
    "print(\"x[0]: \",x[0])\n",
    "print()\n",
    "print(\"# negative index picks the item from the end of the array\")\n",
    "print(\"x[-1]:\", x[-1])"
   ]
  },
  {
   "cell_type": "code",
   "execution_count": 41,
   "id": "29835b0b-9c25-4c15-8686-6927ea08dbe3",
   "metadata": {},
   "outputs": [
    {
     "name": "stdout",
     "output_type": "stream",
     "text": [
      "x:  [12  3  6 14]\n",
      "type: <class 'numpy.ndarray'>\n",
      "\n",
      "# dimension of the array\n",
      "x.ndim:  1\n",
      "\n",
      "# size of the array\n",
      "x.shape:  (4,)\n",
      "\n",
      "# first item in the array\n",
      "12\n"
     ]
    }
   ],
   "source": [
    "x = np.array([12, 3, 6, 14])\n",
    "print(\"x: \", x)\n",
    "print(\"type:\", type(x))\n",
    "print()\n",
    "print(\"# dimension of the array\")\n",
    "print(\"x.ndim: \", x.ndim)\n",
    "print()\n",
    "print(\"# size of the array\")\n",
    "print(\"x.shape: \", x.shape)\n",
    "print()\n",
    "print(\"# first item in the array\")\n",
    "print(x[0])"
   ]
  },
  {
   "cell_type": "code",
   "execution_count": 42,
   "id": "e76a849d-84f9-445e-9321-8648a1a6a40b",
   "metadata": {},
   "outputs": [
    {
     "name": "stdout",
     "output_type": "stream",
     "text": [
      "# arrays do not have commas when printed\n",
      "x.ndim:  2\n",
      "[[ 1  2  3  4]\n",
      " [ 5  6  7  8]\n",
      " [ 9 10 11 12]]\n",
      "\n",
      "First array, second position: 2\n",
      "Second array, second position: 7\n",
      "Third array, second position: 12\n"
     ]
    }
   ],
   "source": [
    "x = np.array([ [1, 2, 3, 4], [5, 6, 7, 8], [9, 10, 11, 12] ])\n",
    "print(\"# arrays do not have commas when printed\")\n",
    "print(\"x.ndim: \", x.ndim)\n",
    "print(x)\n",
    "print()\n",
    "print(\"First array, second position:\", x[0,1])\n",
    "print(\"Second array, second position:\", x[1,2])\n",
    "print(\"Third array, second position:\", x[2,3])"
   ]
  },
  {
   "cell_type": "code",
   "execution_count": 43,
   "id": "5b90120a-d4a8-441f-89e8-56578ee4cf45",
   "metadata": {},
   "outputs": [
    {
     "name": "stdout",
     "output_type": "stream",
     "text": [
      "Array Dimension:  3\n",
      "Array: \n",
      "[[[ 1  2  3  4]\n",
      "  [ 5  6  7  8]\n",
      "  [ 9 10 11 12]]\n",
      "\n",
      " [[21 22 23 24]\n",
      "  [25 26 27 28]\n",
      "  [29 30 31 32]]]\n",
      "\n",
      "# x[0,1,2] -> 0: first list, 1: second set, 2: third item\n",
      "7\n"
     ]
    }
   ],
   "source": [
    "x = np.array([\n",
    " [[1, 2, 3, 4], [5, 6, 7, 8], [9, 10, 11, 12]],\n",
    " [[21, 22, 23, 24], [25, 26, 27, 28], [29, 30, 31, 32]]\n",
    " ])\n",
    "print(\"Array Dimension: \", x.ndim)\n",
    "print(\"Array: \")\n",
    "print(x)\n",
    "print()\n",
    "print(\"# x[0,1,2] -> 0: first list, 1: second set, 2: third item\")\n",
    "print(x[0,1,2])"
   ]
  },
  {
   "cell_type": "code",
   "execution_count": 61,
   "id": "bb7d978f-e129-4318-9995-1bd720bae728",
   "metadata": {},
   "outputs": [
    {
     "name": "stdout",
     "output_type": "stream",
     "text": [
      "[ 0  1  2  3  4  5  6  7  8  9 10]\n",
      "Start from -> up to, not including\n",
      "arr[3:8]: [3 4 5 6 7]\n",
      "arr[3:8:2]: [3 5 7]\n",
      "arr[3:-1]: [3 4 5 6 7 8 9]\n",
      "arr[3:]: [ 3  4  5  6  7  8  9 10]\n",
      "arr[:5]: [0 1 2 3 4]\n"
     ]
    }
   ],
   "source": [
    "arr = np.array([0, 1, 2, 3, 4, 5, 6, 7, 8, 9, 10])\n",
    "print(arr)\n",
    "print(\"Start from -> up to, not including\")\n",
    "\n",
    "# from 3rd element to 8th exclusive \n",
    "print(\"arr[3:8]:\", arr[3:8])\n",
    "\n",
    "# start, end (exclusive), step. From 3rd element, upto 8th exclusive in step of 2\n",
    "print(\"arr[3:8:2]:\", arr[3:8:2])\n",
    "\n",
    "# from 3rd element, to the last element exclusive \n",
    "print(\"arr[3:-1]:\", arr[3:-1])\n",
    "\n",
    "# from 3 to the end of the array\n",
    "print(\"arr[3:]:\", arr[3:])\n",
    "\n",
    "# from first element to 5th exclusive \n",
    "print(\"arr[:5]:\", arr[:5])"
   ]
  },
  {
   "cell_type": "code",
   "execution_count": 62,
   "id": "6b053cee-a91b-4c3d-8355-250fa494f9bf",
   "metadata": {},
   "outputs": [
    {
     "name": "stdout",
     "output_type": "stream",
     "text": [
      "[3 4 5 6 7]\n"
     ]
    }
   ],
   "source": [
    "new = arr[3:8]\n",
    "print(new)"
   ]
  },
  {
   "cell_type": "code",
   "execution_count": 65,
   "id": "5d9823a1-20dd-48e7-b931-3986c4d108e1",
   "metadata": {},
   "outputs": [
    {
     "name": "stdout",
     "output_type": "stream",
     "text": [
      "[33  4  5  6  7]\n",
      "[33  4  5  6  7]\n",
      "New Array:  [33  4  5  6  7]\n",
      "Original Array:  [ 0  1  2 33  4  5  6  7  8  9 10]\n"
     ]
    }
   ],
   "source": [
    "# slice of the array is the reference to the object\n",
    "# if we change new array item, it will also change in the original array\n",
    "new[0]=33\n",
    "print(new)\n",
    "print(arr[3:8])\n",
    "# example of full array output\n",
    "print(\"New Array: \", new)\n",
    "print(\"Original Array: \", arr)"
   ]
  },
  {
   "cell_type": "code",
   "execution_count": 67,
   "id": "399dc783-3e5a-4328-8d14-520b8a98b655",
   "metadata": {},
   "outputs": [
    {
     "name": "stdout",
     "output_type": "stream",
     "text": [
      "myarray:  [ 0  1  2 33  4  5  6  7  8  9 10]\n",
      "arr:  [ 0  1  2 33  4  5  6  7  8  9 10]\n",
      "myarray:  [ 0  1  2  3  4  5  6  7  8  9 10]\n",
      "arr:  [ 0  1  2 33  4  5  6  7  8  9 10]\n"
     ]
    }
   ],
   "source": [
    "# to get the copy of the array and not edit the orignal, array.copy needs to be used \n",
    "myarray = arr.copy()\n",
    "\n",
    "print(\"myarray: \", myarray)\n",
    "print(\"arr: \", arr)\n",
    "\n",
    "myarray[3]=3\n",
    "\n",
    "print(\"myarray: \", myarray)\n",
    "print(\"arr: \", arr)\n",
    "\n",
    "# now, the original array has not changed"
   ]
  },
  {
   "cell_type": "code",
   "execution_count": 80,
   "id": "b206ad25-6ccb-48c0-bf53-55c7bae06a0f",
   "metadata": {},
   "outputs": [
    {
     "name": "stdout",
     "output_type": "stream",
     "text": [
      "arr:  [ 0  1  2  3  4  5  6  7  8  9 10 11]\n",
      "\n",
      "Reshaping to [3, 4], 3 columns 4 entries: \n",
      "[[ 0  1  2  3]\n",
      " [ 4  5  6  7]\n",
      " [ 8  9 10 11]]\n"
     ]
    }
   ],
   "source": [
    "arr = np.array([0, 1, 2, 3, 4, 5, 6, 7, 8, 9, 10, 11])\n",
    "print(\"arr: \", arr)\n",
    "print()\n",
    "b = arr.reshape(3, 4)\n",
    "print(\"Reshaping to [3, 4], 3 columns 4 entries: \")\n",
    "print(b)\n"
   ]
  },
  {
   "cell_type": "code",
   "execution_count": 81,
   "id": "249fff8d-d172-439c-8666-c42d95737f17",
   "metadata": {},
   "outputs": [
    {
     "name": "stdout",
     "output_type": "stream",
     "text": [
      "arr:  [ 0  1  2  3  4  5  6  7  8  9 10 11]\n",
      "\n",
      "Reshaping to [2, 2, 3], 2 lists, 2 columns, 3 items\n",
      "[[[ 0  1  2]\n",
      "  [ 3  4  5]]\n",
      "\n",
      " [[ 6  7  8]\n",
      "  [ 9 10 11]]]\n"
     ]
    }
   ],
   "source": [
    "print(\"arr: \", arr)\n",
    "print()\n",
    "b = arr.reshape(2, 2, 3)\n",
    "print(\"Reshaping to [2, 2, 3], 2 lists, 2 columns, 3 items\")\n",
    "print(b)"
   ]
  },
  {
   "cell_type": "code",
   "execution_count": 82,
   "id": "e7923de7-902c-47a2-ae90-5aeda9d36d6c",
   "metadata": {},
   "outputs": [
    {
     "name": "stdout",
     "output_type": "stream",
     "text": [
      "arr:  [ 0  1  2  3  4  5  6  7  8  9 10 11]\n",
      "\n",
      "Reshaping to [2, 2, -1], 2 lists, 2 columns\n",
      "[[[ 0  1  2]\n",
      "  [ 3  4  5]]\n",
      "\n",
      " [[ 6  7  8]\n",
      "  [ 9 10 11]]]\n"
     ]
    }
   ],
   "source": [
    "print(\"arr: \", arr)\n",
    "print()\n",
    "\n",
    "b = arr.reshape(2, 2, -1)\n",
    "\n",
    "print(\"Reshaping to [2, 2, -1], 2 lists, 2 columns\")\n",
    "print(b)"
   ]
  },
  {
   "cell_type": "code",
   "execution_count": null,
   "id": "81a7a067-d55d-478d-8870-34013f4b6bac",
   "metadata": {},
   "outputs": [],
   "source": []
  }
 ],
 "metadata": {
  "kernelspec": {
   "display_name": "Python 3 (ipykernel)",
   "language": "python",
   "name": "python3"
  },
  "language_info": {
   "codemirror_mode": {
    "name": "ipython",
    "version": 3
   },
   "file_extension": ".py",
   "mimetype": "text/x-python",
   "name": "python",
   "nbconvert_exporter": "python",
   "pygments_lexer": "ipython3",
   "version": "3.8.19"
  }
 },
 "nbformat": 4,
 "nbformat_minor": 5
}
