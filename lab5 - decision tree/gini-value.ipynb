{
 "cells": [
  {
   "cell_type": "code",
   "execution_count": 17,
   "id": "ea5570ff-4019-4591-bec6-e344e6f19430",
   "metadata": {},
   "outputs": [
    {
     "name": "stdout",
     "output_type": "stream",
     "text": [
      "p1: 0.31640625 \n",
      "p2: 0.19140625\n"
     ]
    }
   ],
   "source": [
    "# gini for 9/7 split (node 1)\n",
    "# the bottom is added split, eg. 9 + 7 = 16\n",
    "# p1 and p2 are the split over the added value, so 9/16 and 7/16\n",
    "# GINI = 1 - (split/total)^2\n",
    "p1= (9/16)**2\n",
    "p2 = (7/16)**2\n",
    "print(\"p1:\", p1, \"\\np2:\", p2)"
   ]
  },
  {
   "cell_type": "code",
   "execution_count": 18,
   "id": "15474313-e89d-4fd2-af73-8f81ac75ec2c",
   "metadata": {},
   "outputs": [
    {
     "name": "stdout",
     "output_type": "stream",
     "text": [
      "gini for 9/7 split on node 1: 0.4921875\n"
     ]
    }
   ],
   "source": [
    "g=1-( p1 + p2)\n",
    "print(\"gini for 9/7 split on node 1:\", g)\n",
    "\n",
    "# the lower GINI value the better as it means lower impurity "
   ]
  },
  {
   "cell_type": "code",
   "execution_count": 19,
   "id": "07559c27-e185-47a0-804b-d9a2ffb08db5",
   "metadata": {},
   "outputs": [
    {
     "name": "stdout",
     "output_type": "stream",
     "text": [
      "p1: 0.04000000000000001 \n",
      "p2: 0.6400000000000001\n"
     ]
    }
   ],
   "source": [
    "# gini for 1/4 split (node 1)\n",
    "p1=(1/5)**2\n",
    "p2=(4/5)**2\n",
    "print(\"p1:\", p1, \"\\np2:\", p2)"
   ]
  },
  {
   "cell_type": "code",
   "execution_count": 20,
   "id": "5d724960-2849-4fe7-9262-46b9bb92a5d6",
   "metadata": {},
   "outputs": [
    {
     "name": "stdout",
     "output_type": "stream",
     "text": [
      "gini for 1/4 split on node 1: 0.31999999999999984\n"
     ]
    }
   ],
   "source": [
    "g1=1-(p1+p2)\n",
    "print(\"gini for 1/4 split on node 1:\", g1)"
   ]
  },
  {
   "cell_type": "code",
   "execution_count": 21,
   "id": "abdbf807-c61f-4363-b84e-c5cffd68a14b",
   "metadata": {},
   "outputs": [
    {
     "name": "stdout",
     "output_type": "stream",
     "text": [
      "p1: 0.4444444444444444 \n",
      "p2: 0.1111111111111111\n"
     ]
    }
   ],
   "source": [
    "# gini for 2/1 split (node 1)\n",
    "p1=(2/3)**2\n",
    "p2=(1/3)**2\n",
    "print(\"p1:\", p1, \"\\np2:\", p2)"
   ]
  },
  {
   "cell_type": "code",
   "execution_count": 22,
   "id": "57cb11af-1716-46b3-9a3b-87d99f75571a",
   "metadata": {},
   "outputs": [
    {
     "name": "stdout",
     "output_type": "stream",
     "text": [
      "gini for 2/1 split on node 1: 0.4444444444444444\n"
     ]
    }
   ],
   "source": [
    "g2=1-(p1+p2)\n",
    "print(\"gini for 2/1 split on node 1:\", g2)"
   ]
  },
  {
   "cell_type": "code",
   "execution_count": 27,
   "id": "8240b361-0ec9-47e6-845a-669e6afe45b2",
   "metadata": {},
   "outputs": [
    {
     "name": "stdout",
     "output_type": "stream",
     "text": [
      "p1: 0.25 \n",
      "p2: 0.25\n"
     ]
    }
   ],
   "source": [
    "# gini for 1/1 split (node 1)\n",
    "p1=(1/2)**2\n",
    "p2=(1/2)**2\n",
    "print(\"p1:\", p1, \"\\np2:\", p2)"
   ]
  },
  {
   "cell_type": "code",
   "execution_count": 28,
   "id": "0328df8b-d066-4b9d-ad4a-e621a4967241",
   "metadata": {},
   "outputs": [
    {
     "name": "stdout",
     "output_type": "stream",
     "text": [
      "gini for 1/1 split on node 1: 0.5\n"
     ]
    }
   ],
   "source": [
    "g3=1-(p1+p2)\n",
    "print(\"gini for 1/1 split on node 1:\", g3)"
   ]
  },
  {
   "cell_type": "code",
   "execution_count": 29,
   "id": "4b1cde1a-2a9f-445a-8191-df97616da77a",
   "metadata": {},
   "outputs": [
    {
     "name": "stdout",
     "output_type": "stream",
     "text": [
      "total GINI value: 0.3933333333333332\n"
     ]
    }
   ],
   "source": [
    "# weighted sum of GINI values \n",
    "# split 1/4, 2/1, 1/1 \n",
    "# 10 is coming from total of the split so 1+4+2+1+1+1=10\n",
    "# top values come from total of each split so 1+4=5, 2+1=3 etc.\n",
    "total_gini = (5/10)*g1 + (3/10)*g2 + (2/10)*g3\n",
    "print(\"total GINI value:\", total_gini)"
   ]
  },
  {
   "cell_type": "code",
   "execution_count": null,
   "id": "d5a33db9-47e2-4e46-9f1a-473de6e57a9a",
   "metadata": {},
   "outputs": [],
   "source": []
  },
  {
   "cell_type": "code",
   "execution_count": null,
   "id": "49ba8406-c61f-4bf6-abe7-f28709538fd2",
   "metadata": {},
   "outputs": [],
   "source": []
  }
 ],
 "metadata": {
  "kernelspec": {
   "display_name": "Python 3 (ipykernel)",
   "language": "python",
   "name": "python3"
  },
  "language_info": {
   "codemirror_mode": {
    "name": "ipython",
    "version": 3
   },
   "file_extension": ".py",
   "mimetype": "text/x-python",
   "name": "python",
   "nbconvert_exporter": "python",
   "pygments_lexer": "ipython3",
   "version": "3.8.19"
  }
 },
 "nbformat": 4,
 "nbformat_minor": 5
}
